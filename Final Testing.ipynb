{
 "cells": [
  {
   "cell_type": "code",
   "execution_count": 1,
   "id": "f5eb5d76-7212-4ea1-b87e-e6778355ad86",
   "metadata": {},
   "outputs": [
    {
     "name": "stdout",
     "output_type": "stream",
     "text": [
      "Requirement already satisfied: pandas in c:\\users\\educational purpose\\appdata\\local\\programs\\python\\python313\\lib\\site-packages (2.3.3)\n",
      "Requirement already satisfied: scikit-learn in c:\\users\\educational purpose\\appdata\\local\\programs\\python\\python313\\lib\\site-packages (1.7.2)\n",
      "Requirement already satisfied: accelerate in c:\\users\\educational purpose\\appdata\\local\\programs\\python\\python313\\lib\\site-packages (1.10.1)\n",
      "Requirement already satisfied: datasets in c:\\users\\educational purpose\\appdata\\local\\programs\\python\\python313\\lib\\site-packages (4.2.0)\n",
      "Requirement already satisfied: numpy>=1.26.0 in c:\\users\\educational purpose\\appdata\\local\\programs\\python\\python313\\lib\\site-packages (from pandas) (2.3.3)\n",
      "Requirement already satisfied: python-dateutil>=2.8.2 in c:\\users\\educational purpose\\appdata\\local\\programs\\python\\python313\\lib\\site-packages (from pandas) (2.9.0.post0)\n",
      "Requirement already satisfied: pytz>=2020.1 in c:\\users\\educational purpose\\appdata\\local\\programs\\python\\python313\\lib\\site-packages (from pandas) (2025.2)\n",
      "Requirement already satisfied: tzdata>=2022.7 in c:\\users\\educational purpose\\appdata\\local\\programs\\python\\python313\\lib\\site-packages (from pandas) (2025.2)\n",
      "Requirement already satisfied: scipy>=1.8.0 in c:\\users\\educational purpose\\appdata\\local\\programs\\python\\python313\\lib\\site-packages (from scikit-learn) (1.16.2)\n",
      "Requirement already satisfied: joblib>=1.2.0 in c:\\users\\educational purpose\\appdata\\local\\programs\\python\\python313\\lib\\site-packages (from scikit-learn) (1.5.2)\n",
      "Requirement already satisfied: threadpoolctl>=3.1.0 in c:\\users\\educational purpose\\appdata\\local\\programs\\python\\python313\\lib\\site-packages (from scikit-learn) (3.6.0)\n",
      "Requirement already satisfied: packaging>=20.0 in c:\\users\\educational purpose\\appdata\\local\\programs\\python\\python313\\lib\\site-packages (from accelerate) (25.0)\n",
      "Requirement already satisfied: psutil in c:\\users\\educational purpose\\appdata\\local\\programs\\python\\python313\\lib\\site-packages (from accelerate) (7.1.0)\n",
      "Requirement already satisfied: pyyaml in c:\\users\\educational purpose\\appdata\\local\\programs\\python\\python313\\lib\\site-packages (from accelerate) (6.0.3)\n",
      "Requirement already satisfied: torch>=2.0.0 in c:\\users\\educational purpose\\appdata\\local\\programs\\python\\python313\\lib\\site-packages (from accelerate) (2.8.0)\n",
      "Requirement already satisfied: huggingface_hub>=0.21.0 in c:\\users\\educational purpose\\appdata\\local\\programs\\python\\python313\\lib\\site-packages (from accelerate) (0.35.3)\n",
      "Requirement already satisfied: safetensors>=0.4.3 in c:\\users\\educational purpose\\appdata\\local\\programs\\python\\python313\\lib\\site-packages (from accelerate) (0.6.2)\n",
      "Requirement already satisfied: filelock in c:\\users\\educational purpose\\appdata\\local\\programs\\python\\python313\\lib\\site-packages (from datasets) (3.20.0)\n",
      "Requirement already satisfied: pyarrow>=21.0.0 in c:\\users\\educational purpose\\appdata\\local\\programs\\python\\python313\\lib\\site-packages (from datasets) (21.0.0)\n",
      "Requirement already satisfied: dill<0.4.1,>=0.3.0 in c:\\users\\educational purpose\\appdata\\local\\programs\\python\\python313\\lib\\site-packages (from datasets) (0.4.0)\n",
      "Requirement already satisfied: requests>=2.32.2 in c:\\users\\educational purpose\\appdata\\local\\programs\\python\\python313\\lib\\site-packages (from datasets) (2.32.5)\n",
      "Requirement already satisfied: httpx<1.0.0 in c:\\users\\educational purpose\\appdata\\local\\programs\\python\\python313\\lib\\site-packages (from datasets) (0.28.1)\n",
      "Requirement already satisfied: tqdm>=4.66.3 in c:\\users\\educational purpose\\appdata\\local\\programs\\python\\python313\\lib\\site-packages (from datasets) (4.67.1)\n",
      "Requirement already satisfied: xxhash in c:\\users\\educational purpose\\appdata\\local\\programs\\python\\python313\\lib\\site-packages (from datasets) (3.6.0)\n",
      "Requirement already satisfied: multiprocess<0.70.17 in c:\\users\\educational purpose\\appdata\\local\\programs\\python\\python313\\lib\\site-packages (from datasets) (0.70.16)\n",
      "Requirement already satisfied: fsspec<=2025.9.0,>=2023.1.0 in c:\\users\\educational purpose\\appdata\\local\\programs\\python\\python313\\lib\\site-packages (from fsspec[http]<=2025.9.0,>=2023.1.0->datasets) (2025.9.0)\n",
      "Requirement already satisfied: aiohttp!=4.0.0a0,!=4.0.0a1 in c:\\users\\educational purpose\\appdata\\local\\programs\\python\\python313\\lib\\site-packages (from fsspec[http]<=2025.9.0,>=2023.1.0->datasets) (3.13.0)\n",
      "Requirement already satisfied: anyio in c:\\users\\educational purpose\\appdata\\local\\programs\\python\\python313\\lib\\site-packages (from httpx<1.0.0->datasets) (4.11.0)\n",
      "Requirement already satisfied: certifi in c:\\users\\educational purpose\\appdata\\local\\programs\\python\\python313\\lib\\site-packages (from httpx<1.0.0->datasets) (2025.10.5)\n",
      "Requirement already satisfied: httpcore==1.* in c:\\users\\educational purpose\\appdata\\local\\programs\\python\\python313\\lib\\site-packages (from httpx<1.0.0->datasets) (1.0.9)\n",
      "Requirement already satisfied: idna in c:\\users\\educational purpose\\appdata\\local\\programs\\python\\python313\\lib\\site-packages (from httpx<1.0.0->datasets) (3.11)\n",
      "Requirement already satisfied: h11>=0.16 in c:\\users\\educational purpose\\appdata\\local\\programs\\python\\python313\\lib\\site-packages (from httpcore==1.*->httpx<1.0.0->datasets) (0.16.0)\n",
      "Requirement already satisfied: typing-extensions>=3.7.4.3 in c:\\users\\educational purpose\\appdata\\local\\programs\\python\\python313\\lib\\site-packages (from huggingface_hub>=0.21.0->accelerate) (4.15.0)\n",
      "Requirement already satisfied: aiohappyeyeballs>=2.5.0 in c:\\users\\educational purpose\\appdata\\local\\programs\\python\\python313\\lib\\site-packages (from aiohttp!=4.0.0a0,!=4.0.0a1->fsspec[http]<=2025.9.0,>=2023.1.0->datasets) (2.6.1)\n",
      "Requirement already satisfied: aiosignal>=1.4.0 in c:\\users\\educational purpose\\appdata\\local\\programs\\python\\python313\\lib\\site-packages (from aiohttp!=4.0.0a0,!=4.0.0a1->fsspec[http]<=2025.9.0,>=2023.1.0->datasets) (1.4.0)\n",
      "Requirement already satisfied: attrs>=17.3.0 in c:\\users\\educational purpose\\appdata\\local\\programs\\python\\python313\\lib\\site-packages (from aiohttp!=4.0.0a0,!=4.0.0a1->fsspec[http]<=2025.9.0,>=2023.1.0->datasets) (25.4.0)\n",
      "Requirement already satisfied: frozenlist>=1.1.1 in c:\\users\\educational purpose\\appdata\\local\\programs\\python\\python313\\lib\\site-packages (from aiohttp!=4.0.0a0,!=4.0.0a1->fsspec[http]<=2025.9.0,>=2023.1.0->datasets) (1.8.0)\n",
      "Requirement already satisfied: multidict<7.0,>=4.5 in c:\\users\\educational purpose\\appdata\\local\\programs\\python\\python313\\lib\\site-packages (from aiohttp!=4.0.0a0,!=4.0.0a1->fsspec[http]<=2025.9.0,>=2023.1.0->datasets) (6.7.0)\n",
      "Requirement already satisfied: propcache>=0.2.0 in c:\\users\\educational purpose\\appdata\\local\\programs\\python\\python313\\lib\\site-packages (from aiohttp!=4.0.0a0,!=4.0.0a1->fsspec[http]<=2025.9.0,>=2023.1.0->datasets) (0.4.1)\n",
      "Requirement already satisfied: yarl<2.0,>=1.17.0 in c:\\users\\educational purpose\\appdata\\local\\programs\\python\\python313\\lib\\site-packages (from aiohttp!=4.0.0a0,!=4.0.0a1->fsspec[http]<=2025.9.0,>=2023.1.0->datasets) (1.22.0)\n",
      "Requirement already satisfied: six>=1.5 in c:\\users\\educational purpose\\appdata\\local\\programs\\python\\python313\\lib\\site-packages (from python-dateutil>=2.8.2->pandas) (1.17.0)\n",
      "Requirement already satisfied: charset_normalizer<4,>=2 in c:\\users\\educational purpose\\appdata\\local\\programs\\python\\python313\\lib\\site-packages (from requests>=2.32.2->datasets) (3.4.3)\n",
      "Requirement already satisfied: urllib3<3,>=1.21.1 in c:\\users\\educational purpose\\appdata\\local\\programs\\python\\python313\\lib\\site-packages (from requests>=2.32.2->datasets) (2.5.0)\n",
      "Requirement already satisfied: sympy>=1.13.3 in c:\\users\\educational purpose\\appdata\\local\\programs\\python\\python313\\lib\\site-packages (from torch>=2.0.0->accelerate) (1.14.0)\n",
      "Requirement already satisfied: networkx in c:\\users\\educational purpose\\appdata\\local\\programs\\python\\python313\\lib\\site-packages (from torch>=2.0.0->accelerate) (3.5)\n",
      "Requirement already satisfied: jinja2 in c:\\users\\educational purpose\\appdata\\local\\programs\\python\\python313\\lib\\site-packages (from torch>=2.0.0->accelerate) (3.1.6)\n",
      "Requirement already satisfied: setuptools in c:\\users\\educational purpose\\appdata\\local\\programs\\python\\python313\\lib\\site-packages (from torch>=2.0.0->accelerate) (80.9.0)\n",
      "Requirement already satisfied: mpmath<1.4,>=1.1.0 in c:\\users\\educational purpose\\appdata\\local\\programs\\python\\python313\\lib\\site-packages (from sympy>=1.13.3->torch>=2.0.0->accelerate) (1.3.0)\n",
      "Requirement already satisfied: colorama in c:\\users\\educational purpose\\appdata\\local\\programs\\python\\python313\\lib\\site-packages (from tqdm>=4.66.3->datasets) (0.4.6)\n",
      "Requirement already satisfied: sniffio>=1.1 in c:\\users\\educational purpose\\appdata\\local\\programs\\python\\python313\\lib\\site-packages (from anyio->httpx<1.0.0->datasets) (1.3.1)\n",
      "Requirement already satisfied: MarkupSafe>=2.0 in c:\\users\\educational purpose\\appdata\\local\\programs\\python\\python313\\lib\\site-packages (from jinja2->torch>=2.0.0->accelerate) (3.0.3)\n"
     ]
    }
   ],
   "source": [
    "!pip install pandas scikit-learn accelerate datasets"
   ]
  },
  {
   "cell_type": "code",
   "execution_count": 9,
   "id": "19b838d9-52eb-4d0e-a813-b96afe05c29a",
   "metadata": {},
   "outputs": [],
   "source": [
    "import pandas as pd\n",
    "from sklearn.model_selection import train_test_split\n",
    "from sklearn.feature_extraction.text import TfidfVectorizer\n",
    "from sklearn.preprocessing import LabelEncoder\n",
    "from sklearn.metrics import accuracy_score, f1_score, classification_report\n",
    "from sklearn.linear_model import LogisticRegression\n",
    "from sklearn.naive_bayes import MultinomialNB\n",
    "from sklearn.svm import LinearSVC\n",
    "from sklearn.ensemble import RandomForestClassifier\n",
    "from xgboost import XGBClassifier\n",
    "import warnings\n"
   ]
  },
  {
   "cell_type": "code",
   "execution_count": 10,
   "id": "561cb01c-d369-4dbe-a38d-6983f371fdf1",
   "metadata": {},
   "outputs": [],
   "source": [
    "warnings.filterwarnings(\"ignore\")"
   ]
  },
  {
   "cell_type": "code",
   "execution_count": 18,
   "id": "dc9816d6-0129-4905-8fef-ccb4ca73e596",
   "metadata": {},
   "outputs": [],
   "source": [
    "df = pd.read_csv(r\"C:\\Users\\Educational Purpose\\Downloads\\posts_test.csv\")"
   ]
  },
  {
   "cell_type": "code",
   "execution_count": 19,
   "id": "bf6a2376-b1f9-49cf-82b6-9b862135c331",
   "metadata": {},
   "outputs": [],
   "source": [
    "assert \"post\" in df.columns and \"class_name\" in df.columns, \\\n",
    "\"posts_test.csv must have 'post' and 'class_name' columns.\"\n"
   ]
  },
  {
   "cell_type": "code",
   "execution_count": 20,
   "id": "146416ad-10e3-4415-a208-6898b540c7a2",
   "metadata": {},
   "outputs": [
    {
     "name": "stdout",
     "output_type": "stream",
     "text": [
      "Dataset shape: (1488, 4)\n"
     ]
    }
   ],
   "source": [
    "df = df.dropna(subset=[\"post\", \"class_name\"]).reset_index(drop=True)\n",
    "\n",
    "print(f\"Dataset shape: {df.shape}\")\n"
   ]
  },
  {
   "cell_type": "code",
   "execution_count": 22,
   "id": "f4df2110-8c59-4f9b-ada2-3aa68deb31c5",
   "metadata": {},
   "outputs": [],
   "source": [
    "train_df, test_df = train_test_split(df, test_size=0.2,\n",
    "\n",
    "random_state=42, stratify=df[\"class_name\"])"
   ]
  },
  {
   "cell_type": "code",
   "execution_count": 24,
   "id": "cb98ab4b-27ee-440f-9f1c-901565f2b380",
   "metadata": {},
   "outputs": [],
   "source": [
    "vectorizer = TfidfVectorizer(max_features=5000, stop_words=\"english\")\n",
    "X_train = vectorizer.fit_transform(train_df[\"post\"])\n",
    "X_test = vectorizer.transform(test_df[\"post\"])\n",
    "\n",
    "le = LabelEncoder()\n",
    "le.fit(df[\"class_name\"])\n",
    "y_train_enc = le.transform(train_df[\"class_name\"])\n",
    "y_test_enc = le.transform(test_df[\"class_name\"])\n"
   ]
  },
  {
   "cell_type": "code",
   "execution_count": 25,
   "id": "27a45c80-1a2d-42d1-93cb-122f6eca64d0",
   "metadata": {},
   "outputs": [],
   "source": [
    "def get_model(name):\n",
    "    if name == \"Logistic Regression\":\n",
    "        return LogisticRegression(max_iter=1000)\n",
    "    if name == \"Naive Bayes\":\n",
    "        return MultinomialNB()\n",
    "    if name == \"SVM (LinearSVC)\":\n",
    "        return LinearSVC(max_iter=10000)\n",
    "    if name == \"Random Forest\":\n",
    "        return RandomForestClassifier(n_estimators=200, random_state=42)\n",
    "    if name == \"XGBoost\":\n",
    "        return XGBClassifier(use_label_encoder=False, eval_metric=\"mlogloss\", random_state=42)\n",
    "    raise ValueError(name)\n",
    "\n",
    "model_names = [\"Logistic Regression\", \"Naive Bayes\", \"SVM (LinearSVC)\", \"Random Forest\", \"XGBoost\"]\n"
   ]
  },
  {
   "cell_type": "code",
   "execution_count": 26,
   "id": "4c318b33-1938-4d92-9de2-9068779be946",
   "metadata": {},
   "outputs": [
    {
     "name": "stdout",
     "output_type": "stream",
     "text": [
      "\n",
      "--- Training model: Logistic Regression ---\n",
      "Accuracy: 0.6711 | F1 (macro): 0.6679\n",
      "              precision    recall  f1-score   support\n",
      "\n",
      "        adhd       0.80      0.67      0.73        49\n",
      "     anxiety       0.72      0.69      0.71        49\n",
      "     bipolar       0.62      0.62      0.62        50\n",
      "  depression       0.51      0.46      0.48        50\n",
      "        none       0.66      0.92      0.77        50\n",
      "        ptsd       0.73      0.66      0.69        50\n",
      "\n",
      "    accuracy                           0.67       298\n",
      "   macro avg       0.67      0.67      0.67       298\n",
      "weighted avg       0.67      0.67      0.67       298\n",
      "\n",
      "\n",
      "--- Training model: Naive Bayes ---\n",
      "Accuracy: 0.6275 | F1 (macro): 0.6312\n",
      "              precision    recall  f1-score   support\n",
      "\n",
      "        adhd       0.78      0.63      0.70        49\n",
      "     anxiety       0.57      0.55      0.56        49\n",
      "     bipolar       0.60      0.70      0.65        50\n",
      "  depression       0.51      0.48      0.49        50\n",
      "        none       0.94      0.64      0.76        50\n",
      "        ptsd       0.53      0.76      0.62        50\n",
      "\n",
      "    accuracy                           0.63       298\n",
      "   macro avg       0.66      0.63      0.63       298\n",
      "weighted avg       0.66      0.63      0.63       298\n",
      "\n",
      "\n",
      "--- Training model: SVM (LinearSVC) ---\n",
      "Accuracy: 0.6745 | F1 (macro): 0.6707\n",
      "              precision    recall  f1-score   support\n",
      "\n",
      "        adhd       0.83      0.69      0.76        49\n",
      "     anxiety       0.65      0.67      0.66        49\n",
      "     bipolar       0.57      0.60      0.58        50\n",
      "  depression       0.55      0.48      0.51        50\n",
      "        none       0.74      0.96      0.83        50\n",
      "        ptsd       0.73      0.64      0.68        50\n",
      "\n",
      "    accuracy                           0.67       298\n",
      "   macro avg       0.68      0.67      0.67       298\n",
      "weighted avg       0.68      0.67      0.67       298\n",
      "\n",
      "\n",
      "--- Training model: Random Forest ---\n",
      "Accuracy: 0.6443 | F1 (macro): 0.6445\n",
      "              precision    recall  f1-score   support\n",
      "\n",
      "        adhd       0.81      0.51      0.62        49\n",
      "     anxiety       0.67      0.69      0.68        49\n",
      "     bipolar       0.68      0.56      0.62        50\n",
      "  depression       0.47      0.60      0.53        50\n",
      "        none       0.59      0.90      0.71        50\n",
      "        ptsd       0.86      0.60      0.71        50\n",
      "\n",
      "    accuracy                           0.64       298\n",
      "   macro avg       0.68      0.64      0.64       298\n",
      "weighted avg       0.68      0.64      0.64       298\n",
      "\n",
      "\n",
      "--- Training model: XGBoost ---\n",
      "Accuracy: 0.5906 | F1 (macro): 0.5857\n",
      "              precision    recall  f1-score   support\n",
      "\n",
      "        adhd       0.56      0.47      0.51        49\n",
      "     anxiety       0.64      0.65      0.65        49\n",
      "     bipolar       0.51      0.52      0.51        50\n",
      "  depression       0.45      0.44      0.44        50\n",
      "        none       0.65      0.88      0.75        50\n",
      "        ptsd       0.74      0.58      0.65        50\n",
      "\n",
      "    accuracy                           0.59       298\n",
      "   macro avg       0.59      0.59      0.59       298\n",
      "weighted avg       0.59      0.59      0.59       298\n",
      "\n"
     ]
    }
   ],
   "source": [
    "results = []\n",
    "\n",
    "for mname in model_names:\n",
    "    print(f\"\\n--- Training model: {mname} ---\")\n",
    "    model = get_model(mname)\n",
    "    model.fit(X_train, y_train_enc)\n",
    "    y_pred = model.predict(X_test)\n",
    "\n",
    "    acc = accuracy_score(y_test_enc, y_pred)\n",
    "    f1 = f1_score(y_test_enc, y_pred, average=\"macro\")\n",
    "\n",
    "    print(f\"Accuracy: {acc:.4f} | F1 (macro): {f1:.4f}\")\n",
    "    print(classification_report(y_test_enc, y_pred, target_names=le.classes_))\n",
    "\n",
    "    results.append({\"Model\": mname, \"Accuracy\": acc, \"F1_macro\": f1})\n"
   ]
  },
  {
   "cell_type": "code",
   "execution_count": 29,
   "id": "f2c77f0a-d0f3-42a4-97fd-3de1bd6f4e92",
   "metadata": {},
   "outputs": [
    {
     "name": "stdout",
     "output_type": "stream",
     "text": [
      "\n",
      "Final Results:\n",
      "                 Model  Accuracy  F1_macro\n",
      "0  Logistic Regression  0.671141  0.667880\n",
      "1          Naive Bayes  0.627517  0.631163\n",
      "2      SVM (LinearSVC)  0.674497  0.670725\n",
      "3        Random Forest  0.644295  0.644478\n",
      "4              XGBoost  0.590604  0.585720\n",
      "\n",
      "Saved results to results_only_test.csv\n"
     ]
    }
   ],
   "source": [
    "results_df = pd.DataFrame(results)\n",
    "print(\"\\nFinal Results:\")\n",
    "print(results_df)\n",
    "\n",
    "results_df.to_csv(r\"C:\\Users\\Educational Purpose\\Downloads\\results_only_test.csv\", index=False)\n",
    "print(\"\\nSaved results to results_only_test.csv\")\n"
   ]
  },
  {
   "cell_type": "code",
   "execution_count": null,
   "id": "2e98ce7f-e3d6-498d-98ac-0208386d9018",
   "metadata": {},
   "outputs": [],
   "source": []
  }
 ],
 "metadata": {
  "kernelspec": {
   "display_name": "Python 3 (ipykernel)",
   "language": "python",
   "name": "python3"
  },
  "language_info": {
   "codemirror_mode": {
    "name": "ipython",
    "version": 3
   },
   "file_extension": ".py",
   "mimetype": "text/x-python",
   "name": "python",
   "nbconvert_exporter": "python",
   "pygments_lexer": "ipython3",
   "version": "3.13.2"
  }
 },
 "nbformat": 4,
 "nbformat_minor": 5
}
